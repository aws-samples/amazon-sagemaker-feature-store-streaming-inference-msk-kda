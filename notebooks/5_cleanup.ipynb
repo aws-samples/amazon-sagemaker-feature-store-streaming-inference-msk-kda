{
 "cells": [
  {
   "attachments": {},
   "cell_type": "markdown",
   "metadata": {},
   "source": [
    "# Cleanup\n",
    "This notebook is provided to help you clean up any resources you have created by running through the example. You should also go to the [CloudFormation console](https://console.aws.amazon.com/cloudformation/home) and delete the stack that you created.\n",
    "\n",
    "**Recommended settings to run this notebook in SageMaker Studio:**\n",
    "\n",
    "- Image: Data Science\n",
    "- Kernel: Python3\n",
    "- Instance type: <font color='blue'>ml.m5.large (2 vCPU + 8 GiB)</font>\n",
    "\n",
    "**Important Note:**\n",
    "\n",
    "DO NOT \"Run All Cells\" on this notebook, manual steps are needed for successful execution"
   ]
  },
  {
   "cell_type": "code",
   "execution_count": null,
   "metadata": {
    "tags": []
   },
   "outputs": [],
   "source": [
    "from sagemaker import get_execution_role\n",
    "import sagemaker\n",
    "import boto3\n",
    "import json\n",
    "import sys\n",
    "import time\n",
    "\n",
    "role = get_execution_role()\n",
    "sm = boto3.Session().client(service_name='sagemaker')\n",
    "kinesisclient = boto3.client('kinesisanalyticsv2')\n",
    "kafkaclient = boto3.client('kafka')\n",
    "cf_client = boto3.client('cloudformation')"
   ]
  },
  {
   "cell_type": "markdown",
   "metadata": {
    "tags": []
   },
   "source": [
    "### Stop KDA Application"
   ]
  },
  {
   "cell_type": "code",
   "execution_count": null,
   "metadata": {
    "tags": []
   },
   "outputs": [],
   "source": [
    "# Replace \"kda-msk-flink-note\" if a different name was used when importing Zeppelin notebook in 1_setup.ipynb\n",
    "\n",
    "KDA_APP_NAME_FILTER = \"kda-msk-flink-note\"\n",
    "\n",
    "try:\n",
    "    response = kinesisclient.list_applications()\n",
    "except:\n",
    "    pass\n",
    "\n",
    "applications = response['ApplicationSummaries']\n",
    "print(applications)\n",
    "\n",
    "for application in applications:\n",
    "    application_name=application['ApplicationName']\n",
    "    runtime_environment=application['RuntimeEnvironment']\n",
    "    if \"ZEPPELIN\" not in runtime_environment and KDA_APP_NAME_FILTER in application_name:\n",
    "        try:\n",
    "            stop_response = kinesisclient.stop_application(ApplicationName=application_name, Force=True)\n",
    "            print((\"Applcation stopped:\", application_name))\n",
    "        except:\n",
    "            pass\n",
    "        time.sleep(75)"
   ]
  },
  {
   "cell_type": "markdown",
   "metadata": {},
   "source": [
    "### Delete KDA application"
   ]
  },
  {
   "cell_type": "code",
   "execution_count": null,
   "metadata": {
    "tags": []
   },
   "outputs": [],
   "source": [
    "# Replace \"kda-msk-flink-note\" if a different name was used when importing Zeppelin notebook in 1_setup.ipynb\n",
    "\n",
    "app_filter = 'kda-msk-flink-note'\n",
    "\n",
    "applications = response['ApplicationSummaries']\n",
    "for application in applications:\n",
    "    application_name=application['ApplicationName']\n",
    "    if app_filter in application_name:        \n",
    "        try:\n",
    "            describe_response = kinesisclient.describe_application(ApplicationName=application_name)\n",
    "        except:\n",
    "            pass\n",
    "        create_time_stamp = describe_response['ApplicationDetail']['CreateTimestamp']\n",
    "        try:\n",
    "            delete_response = kinesisclient.delete_application(ApplicationName=application_name, CreateTimestamp=create_time_stamp)\n",
    "            print((\"Applcation deleted:\", application_name))\n",
    "        except:\n",
    "            pass\n",
    "        print(delete_response)\n",
    "    time.sleep(5)"
   ]
  },
  {
   "cell_type": "markdown",
   "metadata": {},
   "source": [
    "### Delete feature groups"
   ]
  },
  {
   "cell_type": "code",
   "execution_count": null,
   "metadata": {
    "tags": []
   },
   "outputs": [],
   "source": [
    "try:\n",
    "    sm.delete_feature_group(FeatureGroupName='cc-agg-batch-fg') \n",
    "    print('deleted batch fg')\n",
    "except:\n",
    "    pass\n",
    "\n",
    "try:\n",
    "    sm.delete_feature_group(FeatureGroupName='cc-agg-fg') # use if needed to re-create\n",
    "    print('deleted fg')\n",
    "except:\n",
    "    pass"
   ]
  },
  {
   "cell_type": "code",
   "execution_count": null,
   "metadata": {
    "tags": []
   },
   "outputs": [],
   "source": [
    "sm.list_feature_groups()"
   ]
  },
  {
   "cell_type": "markdown",
   "metadata": {
    "tags": []
   },
   "source": [
    "### Remove contents from the S3 bucket"
   ]
  },
  {
   "attachments": {},
   "cell_type": "markdown",
   "metadata": {},
   "source": [
    "Be sure to set the stack name in cell below to match the name of the CloudFormation stack used to create this SageMaker domain. If you used the default stack name, you should not need to make any updates\n",
    "\n",
    "![SegmentLocal](images/get-cloudformation-stack-name.gif \"get_cf_name\")"
   ]
  },
  {
   "cell_type": "code",
   "execution_count": null,
   "metadata": {
    "tags": []
   },
   "outputs": [],
   "source": [
    "# Change stack name if not using default\n",
    "stackname = 'sagemaker-featurestore-msk-kda-stack'\n",
    "\n",
    "response = cf_client.describe_stack_resource(\n",
    "    StackName=stackname,\n",
    "    LogicalResourceId='KDAStreamingApplicationS3Bucket'\n",
    ")\n",
    "kda_s3_bucket = response[\"StackResourceDetail\"][\"PhysicalResourceId\"]\n",
    "print(kda_s3_bucket)"
   ]
  },
  {
   "cell_type": "code",
   "execution_count": null,
   "metadata": {
    "tags": []
   },
   "outputs": [],
   "source": [
    "s3 = boto3.resource('s3')\n",
    "bucket = s3.Bucket(kda_s3_bucket)\n",
    "bucket.objects.all().delete()"
   ]
  },
  {
   "cell_type": "markdown",
   "metadata": {},
   "source": [
    "### Remove the trigger from Lambda"
   ]
  },
  {
   "cell_type": "code",
   "execution_count": null,
   "metadata": {
    "tags": []
   },
   "outputs": [],
   "source": [
    "import boto3\n",
    "\n",
    "%store -r \n",
    "\n",
    "lambda_client = boto3.client('lambda')\n",
    "paginator = lambda_client.get_paginator('list_event_source_mappings')\n",
    "mapping_iterator = paginator.paginate(FunctionName=lambda_to_model_arn)\n",
    "\n",
    "for m in mapping_iterator:\n",
    "    if len(m['EventSourceMappings']) > 0:\n",
    "        uuid = m['EventSourceMappings'][0]['UUID']\n",
    "        print(f'Deleting mapping: {uuid}...')\n",
    "        lambda_client.delete_event_source_mapping(UUID=uuid)"
   ]
  },
  {
   "cell_type": "markdown",
   "metadata": {},
   "source": [
    "### Delete the SageMaker Endpoint"
   ]
  },
  {
   "cell_type": "code",
   "execution_count": null,
   "metadata": {
    "tags": []
   },
   "outputs": [],
   "source": [
    "%store -r\n",
    "try:\n",
    "    sm.delete_endpoint(EndpointName=endpoint_name)\n",
    "except:\n",
    "    pass"
   ]
  },
  {
   "attachments": {},
   "cell_type": "markdown",
   "metadata": {},
   "source": [
    "### Deleting CloudFormation Template (Manual)\n",
    "\n",
    "1. After executing above cells, ensure the SageMaker kernel is brought down (by navigating to the circle button on the left menu).\n",
    "2. Exit the SageMaker domain.\n",
    "3. Delete the CloudFormation template.\n",
    "4. Due to a known issue, the EFS file share auto created by SageMaker Studio will cause issues deleting the related subnets and ENIs. If that happens, the CloudFormation stack delete may fail.\n",
    "5. In such cases, delete the associated resources manually (EFS volumes, ENIs, security groups and VPC) and retry deleting the stack.\n",
    "\n",
    "Thanks for working through this content, reach out to us if you have any questions."
   ]
  }
 ],
 "metadata": {
  "instance_type": "ml.m5.large",
  "kernelspec": {
   "display_name": "Python 3",
   "language": "python",
   "name": "python3"
  },
  "language_info": {
   "codemirror_mode": {
    "name": "ipython",
    "version": 3
   },
   "file_extension": ".py",
   "mimetype": "text/x-python",
   "name": "python",
   "nbconvert_exporter": "python",
   "pygments_lexer": "ipython3",
   "version": "3.9.6"
  },
  "vscode": {
   "interpreter": {
    "hash": "31f2aee4e71d21fbe5cf8b01ff0e069b9275f58929596ceb00d14d90e3e16cd6"
   }
  }
 },
 "nbformat": 4,
 "nbformat_minor": 4
}
